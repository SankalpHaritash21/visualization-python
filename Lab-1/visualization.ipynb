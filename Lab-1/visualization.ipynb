{
 "cells": [
  {
   "cell_type": "code",
   "execution_count": 22,
   "id": "ab4147b8",
   "metadata": {},
   "outputs": [
    {
     "name": "stdout",
     "output_type": "stream",
     "text": [
      "Hello Everyone!\n"
     ]
    }
   ],
   "source": [
    "print(\"Hello Everyone!\")"
   ]
  },
  {
   "cell_type": "markdown",
   "id": "69a24eae",
   "metadata": {},
   "source": [
    "Data visualization means turning numbers into pictures -> so patterns are easier to see."
   ]
  },
  {
   "cell_type": "code",
   "execution_count": 1,
   "id": "bd6c0c86",
   "metadata": {},
   "outputs": [
    {
     "name": "stdout",
     "output_type": "stream",
     "text": [
      "Collecting pandas\n",
      "  Using cached pandas-2.3.1-cp310-cp310-win_amd64.whl (11.3 MB)\n",
      "Collecting matplotlib\n",
      "  Downloading matplotlib-3.10.5-cp310-cp310-win_amd64.whl (8.1 MB)\n",
      "     ---------------------------------------- 8.1/8.1 MB 130.9 kB/s eta 0:00:00\n",
      "Collecting seaborn\n",
      "  Using cached seaborn-0.13.2-py3-none-any.whl (294 kB)\n",
      "Requirement already satisfied: python-dateutil>=2.8.2 in c:\\users\\sankl\\onedrive\\documents\\data\\venv\\lib\\site-packages (from pandas) (2.9.0.post0)\n",
      "Collecting pytz>=2020.1\n",
      "  Using cached pytz-2025.2-py2.py3-none-any.whl (509 kB)\n",
      "Collecting numpy>=1.22.4\n",
      "  Using cached numpy-2.2.6-cp310-cp310-win_amd64.whl (12.9 MB)\n",
      "Collecting tzdata>=2022.7\n",
      "  Using cached tzdata-2025.2-py2.py3-none-any.whl (347 kB)\n",
      "Collecting pyparsing>=2.3.1\n",
      "  Using cached pyparsing-3.2.3-py3-none-any.whl (111 kB)\n",
      "Collecting contourpy>=1.0.1\n",
      "  Using cached contourpy-1.3.2-cp310-cp310-win_amd64.whl (221 kB)\n",
      "Collecting fonttools>=4.22.0\n",
      "  Downloading fonttools-4.59.0-cp310-cp310-win_amd64.whl (2.3 MB)\n",
      "     ---------------------------------------- 2.3/2.3 MB 89.7 kB/s eta 0:00:00\n",
      "Collecting pillow>=8\n",
      "  Using cached pillow-11.3.0-cp310-cp310-win_amd64.whl (7.0 MB)\n",
      "Requirement already satisfied: packaging>=20.0 in c:\\users\\sankl\\onedrive\\documents\\data\\venv\\lib\\site-packages (from matplotlib) (25.0)\n",
      "Collecting cycler>=0.10\n",
      "  Using cached cycler-0.12.1-py3-none-any.whl (8.3 kB)\n",
      "Collecting kiwisolver>=1.3.1\n",
      "  Using cached kiwisolver-1.4.8-cp310-cp310-win_amd64.whl (71 kB)\n",
      "Requirement already satisfied: six>=1.5 in c:\\users\\sankl\\onedrive\\documents\\data\\venv\\lib\\site-packages (from python-dateutil>=2.8.2->pandas) (1.17.0)\n",
      "Installing collected packages: pytz, tzdata, pyparsing, pillow, numpy, kiwisolver, fonttools, cycler, pandas, contourpy, matplotlib, seaborn\n",
      "Successfully installed contourpy-1.3.2 cycler-0.12.1 fonttools-4.59.0 kiwisolver-1.4.8 matplotlib-3.10.5 numpy-2.2.6 pandas-2.3.1 pillow-11.3.0 pyparsing-3.2.3 pytz-2025.2 seaborn-0.13.2 tzdata-2025.2\n",
      "Note: you may need to restart the kernel to use updated packages.\n"
     ]
    },
    {
     "name": "stderr",
     "output_type": "stream",
     "text": [
      "\n",
      "[notice] A new release of pip available: 22.2.1 -> 25.2\n",
      "[notice] To update, run: python.exe -m pip install --upgrade pip\n"
     ]
    }
   ],
   "source": [
    "!pip install pandas matplotlib seaborn"
   ]
  },
  {
   "cell_type": "markdown",
   "id": "81e5e548",
   "metadata": {},
   "source": [
    "# Working with CSV"
   ]
  },
  {
   "cell_type": "code",
   "execution_count": 2,
   "id": "f7244fe0",
   "metadata": {},
   "outputs": [
    {
     "name": "stdout",
     "output_type": "stream",
     "text": [
      "           Player  Matches  Runs  StrikeRate  Fours  Sixes\n",
      "0     Virat Kohli       14   639      139.82     65     16\n",
      "1  Faf du Plessis       14   730      153.67     60     36\n",
      "2    Shubman Gill       14   890      157.80     85     33\n",
      "3     Jos Buttler       13   392      141.91     45     14\n",
      "4    David Warner       14   516      131.63     52     12\n"
     ]
    }
   ],
   "source": [
    "import pandas as pd\n",
    "\n",
    "df_csv = pd.read_csv(\"./ipl_2023.csv\")\n",
    "print(df_csv.head())"
   ]
  },
  {
   "cell_type": "code",
   "execution_count": 23,
   "id": "c5488f27",
   "metadata": {},
   "outputs": [
    {
     "data": {
      "text/html": [
       "<div>\n",
       "<style scoped>\n",
       "    .dataframe tbody tr th:only-of-type {\n",
       "        vertical-align: middle;\n",
       "    }\n",
       "\n",
       "    .dataframe tbody tr th {\n",
       "        vertical-align: top;\n",
       "    }\n",
       "\n",
       "    .dataframe thead th {\n",
       "        text-align: right;\n",
       "    }\n",
       "</style>\n",
       "<table border=\"1\" class=\"dataframe\">\n",
       "  <thead>\n",
       "    <tr style=\"text-align: right;\">\n",
       "      <th></th>\n",
       "      <th>Player</th>\n",
       "      <th>Matches</th>\n",
       "      <th>Runs</th>\n",
       "      <th>StrikeRate</th>\n",
       "      <th>Fours</th>\n",
       "      <th>Sixes</th>\n",
       "    </tr>\n",
       "  </thead>\n",
       "  <tbody>\n",
       "    <tr>\n",
       "      <th>0</th>\n",
       "      <td>Virat Kohli</td>\n",
       "      <td>14</td>\n",
       "      <td>639</td>\n",
       "      <td>139.82</td>\n",
       "      <td>65</td>\n",
       "      <td>16</td>\n",
       "    </tr>\n",
       "    <tr>\n",
       "      <th>1</th>\n",
       "      <td>Faf du Plessis</td>\n",
       "      <td>14</td>\n",
       "      <td>730</td>\n",
       "      <td>153.67</td>\n",
       "      <td>60</td>\n",
       "      <td>36</td>\n",
       "    </tr>\n",
       "  </tbody>\n",
       "</table>\n",
       "</div>"
      ],
      "text/plain": [
       "           Player  Matches  Runs  StrikeRate  Fours  Sixes\n",
       "0     Virat Kohli       14   639      139.82     65     16\n",
       "1  Faf du Plessis       14   730      153.67     60     36"
      ]
     },
     "execution_count": 23,
     "metadata": {},
     "output_type": "execute_result"
    }
   ],
   "source": [
    "df_csv.head(2) # Display the first two rows of the DataFrame"
   ]
  },
  {
   "cell_type": "code",
   "execution_count": null,
   "id": "2fa048a2",
   "metadata": {},
   "outputs": [],
   "source": []
  },
  {
   "cell_type": "code",
   "execution_count": 3,
   "id": "f62cf66b",
   "metadata": {},
   "outputs": [
    {
     "name": "stdout",
     "output_type": "stream",
     "text": [
      "<class 'pandas.core.frame.DataFrame'>\n",
      "RangeIndex: 5 entries, 0 to 4\n",
      "Data columns (total 6 columns):\n",
      " #   Column      Non-Null Count  Dtype  \n",
      "---  ------      --------------  -----  \n",
      " 0   Player      5 non-null      object \n",
      " 1   Matches     5 non-null      int64  \n",
      " 2   Runs        5 non-null      int64  \n",
      " 3   StrikeRate  5 non-null      float64\n",
      " 4   Fours       5 non-null      int64  \n",
      " 5   Sixes       5 non-null      int64  \n",
      "dtypes: float64(1), int64(4), object(1)\n",
      "memory usage: 368.0+ bytes\n",
      "None\n"
     ]
    }
   ],
   "source": [
    "print(df_csv.info())"
   ]
  },
  {
   "cell_type": "code",
   "execution_count": 4,
   "id": "04ced58c",
   "metadata": {},
   "outputs": [
    {
     "name": "stdout",
     "output_type": "stream",
     "text": [
      "         Matches        Runs  StrikeRate      Fours      Sixes\n",
      "count   5.000000    5.000000    5.000000   5.000000   5.000000\n",
      "mean   13.800000  633.400000  144.966000  61.400000  22.200000\n",
      "std     0.447214  191.874438   10.655286  15.241391  11.366618\n",
      "min    13.000000  392.000000  131.630000  45.000000  12.000000\n",
      "25%    14.000000  516.000000  139.820000  52.000000  14.000000\n",
      "50%    14.000000  639.000000  141.910000  60.000000  16.000000\n",
      "75%    14.000000  730.000000  153.670000  65.000000  33.000000\n",
      "max    14.000000  890.000000  157.800000  85.000000  36.000000\n"
     ]
    }
   ],
   "source": [
    "print(df_csv.describe())"
   ]
  },
  {
   "cell_type": "code",
   "execution_count": 20,
   "id": "cc2f1cd4",
   "metadata": {},
   "outputs": [
    {
     "name": "stdout",
     "output_type": "stream",
     "text": [
      "Player        0\n",
      "Matches       0\n",
      "Runs          0\n",
      "StrikeRate    0\n",
      "Fours         0\n",
      "Sixes         0\n",
      "dtype: int64\n"
     ]
    }
   ],
   "source": [
    "print(df_csv.isnull().sum())  # How many missing per column"
   ]
  },
  {
   "cell_type": "code",
   "execution_count": 19,
   "id": "6390e488",
   "metadata": {},
   "outputs": [
    {
     "data": {
      "image/png": "[encoded data removed]",
      "text/plain": [
       "<Figure size 640x480 with 1 Axes>"
      ]
     },
     "metadata": {},
     "output_type": "display_data"
    }
   ],
   "source": [
    "import matplotlib.pyplot as plt\n",
    "import seaborn as sns\n",
    "\n",
    "# Bar plot of top 5 run scorers\n",
    "top5 = df_csv.sort_values(\"Runs\", ascending=False).head(5)\n",
    "sns.barplot(x=\"Player\", y=\"Runs\", data=top5)\n",
    "plt.title(\"Top 5 Run Scorers\")\n",
    "plt.xticks(rotation=45)\n",
    "plt.show()\n"
   ]
  },
  {
   "cell_type": "markdown",
   "id": "7676c940",
   "metadata": {},
   "source": [
    "How many players are there in the dataset?\n",
    "\n",
    "Which player has scored the most runs?\n",
    "\n",
    "What is the average strike rate?"
   ]
  },
  {
   "cell_type": "markdown",
   "id": "783b14f8",
   "metadata": {},
   "source": [
    "# Working with Excel"
   ]
  },
  {
   "cell_type": "code",
   "execution_count": 7,
   "id": "4f76dd25",
   "metadata": {},
   "outputs": [
    {
     "name": "stdout",
     "output_type": "stream",
     "text": [
      "Collecting openpyxl\n",
      "  Downloading openpyxl-3.1.5-py2.py3-none-any.whl (250 kB)\n",
      "     ------------------------------------ 250.9/250.9 kB 261.3 kB/s eta 0:00:00\n",
      "Collecting et-xmlfile\n",
      "  Downloading et_xmlfile-2.0.0-py3-none-any.whl (18 kB)\n",
      "Installing collected packages: et-xmlfile, openpyxl\n",
      "Successfully installed et-xmlfile-2.0.0 openpyxl-3.1.5\n"
     ]
    },
    {
     "name": "stderr",
     "output_type": "stream",
     "text": [
      "\n",
      "[notice] A new release of pip available: 22.2.1 -> 25.2\n",
      "[notice] To update, run: python.exe -m pip install --upgrade pip\n"
     ]
    }
   ],
   "source": [
    "!pip install openpyxl"
   ]
  },
  {
   "cell_type": "code",
   "execution_count": 8,
   "id": "0596fd32",
   "metadata": {},
   "outputs": [
    {
     "name": "stdout",
     "output_type": "stream",
     "text": [
      "     Name  Maths  Science  English\n",
      "0  Ananya     88       91       85\n",
      "1    Ravi     72       75       67\n",
      "2   Sneha     94       89       90\n",
      "3  Aditya     65       70       60\n",
      "4   Meera     78       80       73\n"
     ]
    }
   ],
   "source": [
    "df_excel = pd.read_excel(\"./student_marks.xlsx\")\n",
    "print(df_excel.head())"
   ]
  },
  {
   "cell_type": "code",
   "execution_count": 9,
   "id": "97bf2eff",
   "metadata": {},
   "outputs": [
    {
     "name": "stdout",
     "output_type": "stream",
     "text": [
      "<class 'pandas.core.frame.DataFrame'>\n",
      "RangeIndex: 5 entries, 0 to 4\n",
      "Data columns (total 4 columns):\n",
      " #   Column   Non-Null Count  Dtype \n",
      "---  ------   --------------  ----- \n",
      " 0   Name     5 non-null      object\n",
      " 1   Maths    5 non-null      int64 \n",
      " 2   Science  5 non-null      int64 \n",
      " 3   English  5 non-null      int64 \n",
      "dtypes: int64(3), object(1)\n",
      "memory usage: 288.0+ bytes\n"
     ]
    }
   ],
   "source": [
    "df_excel.info()"
   ]
  },
  {
   "cell_type": "code",
   "execution_count": 11,
   "id": "47600840",
   "metadata": {},
   "outputs": [
    {
     "data": {
      "text/html": [
       "<div>\n",
       "<style scoped>\n",
       "    .dataframe tbody tr th:only-of-type {\n",
       "        vertical-align: middle;\n",
       "    }\n",
       "\n",
       "    .dataframe tbody tr th {\n",
       "        vertical-align: top;\n",
       "    }\n",
       "\n",
       "    .dataframe thead th {\n",
       "        text-align: right;\n",
       "    }\n",
       "</style>\n",
       "<table border=\"1\" class=\"dataframe\">\n",
       "  <thead>\n",
       "    <tr style=\"text-align: right;\">\n",
       "      <th></th>\n",
       "      <th>Maths</th>\n",
       "      <th>Science</th>\n",
       "      <th>English</th>\n",
       "    </tr>\n",
       "  </thead>\n",
       "  <tbody>\n",
       "    <tr>\n",
       "      <th>count</th>\n",
       "      <td>5.000000</td>\n",
       "      <td>5.000000</td>\n",
       "      <td>5.000000</td>\n",
       "    </tr>\n",
       "    <tr>\n",
       "      <th>mean</th>\n",
       "      <td>79.400000</td>\n",
       "      <td>81.000000</td>\n",
       "      <td>75.000000</td>\n",
       "    </tr>\n",
       "    <tr>\n",
       "      <th>std</th>\n",
       "      <td>11.738824</td>\n",
       "      <td>8.972179</td>\n",
       "      <td>12.429803</td>\n",
       "    </tr>\n",
       "    <tr>\n",
       "      <th>min</th>\n",
       "      <td>65.000000</td>\n",
       "      <td>70.000000</td>\n",
       "      <td>60.000000</td>\n",
       "    </tr>\n",
       "    <tr>\n",
       "      <th>25%</th>\n",
       "      <td>72.000000</td>\n",
       "      <td>75.000000</td>\n",
       "      <td>67.000000</td>\n",
       "    </tr>\n",
       "    <tr>\n",
       "      <th>50%</th>\n",
       "      <td>78.000000</td>\n",
       "      <td>80.000000</td>\n",
       "      <td>73.000000</td>\n",
       "    </tr>\n",
       "    <tr>\n",
       "      <th>75%</th>\n",
       "      <td>88.000000</td>\n",
       "      <td>89.000000</td>\n",
       "      <td>85.000000</td>\n",
       "    </tr>\n",
       "    <tr>\n",
       "      <th>max</th>\n",
       "      <td>94.000000</td>\n",
       "      <td>91.000000</td>\n",
       "      <td>90.000000</td>\n",
       "    </tr>\n",
       "  </tbody>\n",
       "</table>\n",
       "</div>"
      ],
      "text/plain": [
       "           Maths    Science    English\n",
       "count   5.000000   5.000000   5.000000\n",
       "mean   79.400000  81.000000  75.000000\n",
       "std    11.738824   8.972179  12.429803\n",
       "min    65.000000  70.000000  60.000000\n",
       "25%    72.000000  75.000000  67.000000\n",
       "50%    78.000000  80.000000  73.000000\n",
       "75%    88.000000  89.000000  85.000000\n",
       "max    94.000000  91.000000  90.000000"
      ]
     },
     "execution_count": 11,
     "metadata": {},
     "output_type": "execute_result"
    }
   ],
   "source": [
    "df_excel.describe()"
   ]
  },
  {
   "cell_type": "code",
   "execution_count": null,
   "id": "f926bd18",
   "metadata": {},
   "outputs": [
    {
     "name": "stdout",
     "output_type": "stream",
     "text": [
      "0    88\n",
      "1    72\n",
      "2    94\n",
      "3    65\n",
      "4    78\n",
      "Name: Maths, dtype: int64\n"
     ]
    }
   ],
   "source": [
    "# What is the average score in Maths?\n",
    "\n",
    "print(df_excel[\"Maths\"]) # using this we are able to access Maths column"
   ]
  },
  {
   "cell_type": "code",
   "execution_count": null,
   "id": "d97b8a8c",
   "metadata": {},
   "outputs": [
    {
     "name": "stdout",
     "output_type": "stream",
     "text": [
      "79.4\n"
     ]
    }
   ],
   "source": [
    "print(df_excel[\"Maths\"].mean()) # Average score in Maths"
   ]
  },
  {
   "cell_type": "code",
   "execution_count": 14,
   "id": "258cdeeb",
   "metadata": {},
   "outputs": [
    {
     "name": "stdout",
     "output_type": "stream",
     "text": [
      "81.0\n"
     ]
    }
   ],
   "source": [
    "print(df_excel[\"Science\"].mean())"
   ]
  },
  {
   "cell_type": "code",
   "execution_count": null,
   "id": "f5ca8be8",
   "metadata": {},
   "outputs": [],
   "source": [
    "df_excel.to_csv(\"updated_students.csv\", index=False) # Save the DataFrame to a CSV file"
   ]
  },
  {
   "cell_type": "markdown",
   "id": "288ea28f",
   "metadata": {},
   "source": [
    "What is the average score in Maths?\n",
    "\n",
    "Which student scored the highest in Science?\n",
    "\n",
    "Add a new column: Total = Maths + Science + English?"
   ]
  },
  {
   "cell_type": "markdown",
   "id": "aaf4386f",
   "metadata": {},
   "source": [
    "# Working with SQL Database"
   ]
  },
  {
   "cell_type": "code",
   "execution_count": 15,
   "id": "96058541",
   "metadata": {},
   "outputs": [
    {
     "name": "stdout",
     "output_type": "stream",
     "text": [
      "   id            title     genre  year  rating\n",
      "0   1        Inception    Sci-Fi  2010     8.8\n",
      "1   2     Interstellar    Sci-Fi  2014     8.6\n",
      "2   3  The Dark Knight    Action  2008     9.0\n",
      "3   4         Parasite  Thriller  2019     8.6\n",
      "4   5         3 Idiots    Comedy  2009     8.4\n"
     ]
    }
   ],
   "source": [
    "import sqlite3\n",
    "\n",
    "conn = sqlite3.connect(\"movies.db\")\n",
    "df_sql = pd.read_sql(\"SELECT * FROM movies\", conn)\n",
    "print(df_sql.head())\n"
   ]
  },
  {
   "cell_type": "code",
   "execution_count": 17,
   "id": "8c3cd553",
   "metadata": {},
   "outputs": [
    {
     "name": "stdout",
     "output_type": "stream",
     "text": [
      "<class 'pandas.core.frame.DataFrame'>\n",
      "RangeIndex: 5 entries, 0 to 4\n",
      "Data columns (total 5 columns):\n",
      " #   Column  Non-Null Count  Dtype  \n",
      "---  ------  --------------  -----  \n",
      " 0   id      5 non-null      int64  \n",
      " 1   title   5 non-null      object \n",
      " 2   genre   5 non-null      object \n",
      " 3   year    5 non-null      int64  \n",
      " 4   rating  5 non-null      float64\n",
      "dtypes: float64(1), int64(2), object(2)\n",
      "memory usage: 328.0+ bytes\n"
     ]
    }
   ],
   "source": [
    "df_sql.info()"
   ]
  },
  {
   "cell_type": "code",
   "execution_count": 18,
   "id": "541b24f2",
   "metadata": {},
   "outputs": [
    {
     "data": {
      "text/html": [
       "<div>\n",
       "<style scoped>\n",
       "    .dataframe tbody tr th:only-of-type {\n",
       "        vertical-align: middle;\n",
       "    }\n",
       "\n",
       "    .dataframe tbody tr th {\n",
       "        vertical-align: top;\n",
       "    }\n",
       "\n",
       "    .dataframe thead th {\n",
       "        text-align: right;\n",
       "    }\n",
       "</style>\n",
       "<table border=\"1\" class=\"dataframe\">\n",
       "  <thead>\n",
       "    <tr style=\"text-align: right;\">\n",
       "      <th></th>\n",
       "      <th>id</th>\n",
       "      <th>year</th>\n",
       "      <th>rating</th>\n",
       "    </tr>\n",
       "  </thead>\n",
       "  <tbody>\n",
       "    <tr>\n",
       "      <th>count</th>\n",
       "      <td>5.000000</td>\n",
       "      <td>5.000000</td>\n",
       "      <td>5.000000</td>\n",
       "    </tr>\n",
       "    <tr>\n",
       "      <th>mean</th>\n",
       "      <td>3.000000</td>\n",
       "      <td>2012.000000</td>\n",
       "      <td>8.680000</td>\n",
       "    </tr>\n",
       "    <tr>\n",
       "      <th>std</th>\n",
       "      <td>1.581139</td>\n",
       "      <td>4.527693</td>\n",
       "      <td>0.228035</td>\n",
       "    </tr>\n",
       "    <tr>\n",
       "      <th>min</th>\n",
       "      <td>1.000000</td>\n",
       "      <td>2008.000000</td>\n",
       "      <td>8.400000</td>\n",
       "    </tr>\n",
       "    <tr>\n",
       "      <th>25%</th>\n",
       "      <td>2.000000</td>\n",
       "      <td>2009.000000</td>\n",
       "      <td>8.600000</td>\n",
       "    </tr>\n",
       "    <tr>\n",
       "      <th>50%</th>\n",
       "      <td>3.000000</td>\n",
       "      <td>2010.000000</td>\n",
       "      <td>8.600000</td>\n",
       "    </tr>\n",
       "    <tr>\n",
       "      <th>75%</th>\n",
       "      <td>4.000000</td>\n",
       "      <td>2014.000000</td>\n",
       "      <td>8.800000</td>\n",
       "    </tr>\n",
       "    <tr>\n",
       "      <th>max</th>\n",
       "      <td>5.000000</td>\n",
       "      <td>2019.000000</td>\n",
       "      <td>9.000000</td>\n",
       "    </tr>\n",
       "  </tbody>\n",
       "</table>\n",
       "</div>"
      ],
      "text/plain": [
       "             id         year    rating\n",
       "count  5.000000     5.000000  5.000000\n",
       "mean   3.000000  2012.000000  8.680000\n",
       "std    1.581139     4.527693  0.228035\n",
       "min    1.000000  2008.000000  8.400000\n",
       "25%    2.000000  2009.000000  8.600000\n",
       "50%    3.000000  2010.000000  8.600000\n",
       "75%    4.000000  2014.000000  8.800000\n",
       "max    5.000000  2019.000000  9.000000"
      ]
     },
     "execution_count": 18,
     "metadata": {},
     "output_type": "execute_result"
    }
   ],
   "source": [
    "df_sql.describe()"
   ]
  },
  {
   "cell_type": "markdown",
   "id": "1822aa75",
   "metadata": {},
   "source": [
    "- How many movies are in the database?\n",
    "- Which movie has the highest rating or revenue?"
   ]
  }
 ],
 "metadata": {
  "kernelspec": {
   "display_name": "venv",
   "language": "python",
   "name": "python3"
  },
  "language_info": {
   "codemirror_mode": {
    "name": "ipython",
    "version": 3
   },
   "file_extension": ".py",
   "mimetype": "text/x-python",
   "name": "python",
   "nbconvert_exporter": "python",
   "pygments_lexer": "ipython3",
   "version": "3.10.6"
  }
 },
 "nbformat": 4,
 "nbformat_minor": 5
}
